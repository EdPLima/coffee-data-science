{
 "cells": [
  {
   "cell_type": "markdown",
   "metadata": {},
   "source": [
    "# Análise exploratória de dados"
   ]
  },
  {
   "cell_type": "code",
   "execution_count": 1,
   "metadata": {},
   "outputs": [],
   "source": [
    "import pandas as pd"
   ]
  },
  {
   "cell_type": "markdown",
   "metadata": {},
   "source": [
    "## 1. Descrição dos dados"
   ]
  },
  {
   "cell_type": "code",
   "execution_count": 2,
   "metadata": {},
   "outputs": [
    {
     "data": {
      "text/html": [
       "<div>\n",
       "<style scoped>\n",
       "    .dataframe tbody tr th:only-of-type {\n",
       "        vertical-align: middle;\n",
       "    }\n",
       "\n",
       "    .dataframe tbody tr th {\n",
       "        vertical-align: top;\n",
       "    }\n",
       "\n",
       "    .dataframe thead th {\n",
       "        text-align: right;\n",
       "    }\n",
       "</style>\n",
       "<table border=\"1\" class=\"dataframe\">\n",
       "  <thead>\n",
       "    <tr style=\"text-align: right;\">\n",
       "      <th></th>\n",
       "      <th>name</th>\n",
       "      <th>roaster</th>\n",
       "      <th>roast</th>\n",
       "      <th>loc_country</th>\n",
       "      <th>origin_1</th>\n",
       "      <th>origin_2</th>\n",
       "      <th>100g_USD</th>\n",
       "      <th>rating</th>\n",
       "      <th>review_date</th>\n",
       "      <th>desc_1</th>\n",
       "      <th>desc_2</th>\n",
       "      <th>desc_3</th>\n",
       "    </tr>\n",
       "  </thead>\n",
       "  <tbody>\n",
       "    <tr>\n",
       "      <th>0</th>\n",
       "      <td>“Sweety” Espresso Blend</td>\n",
       "      <td>A.R.C.</td>\n",
       "      <td>Medium-Light</td>\n",
       "      <td>Hong Kong</td>\n",
       "      <td>Panama</td>\n",
       "      <td>Ethiopia</td>\n",
       "      <td>14.32</td>\n",
       "      <td>95</td>\n",
       "      <td>November 2017</td>\n",
       "      <td>Evaluated as espresso. Sweet-toned, deeply ric...</td>\n",
       "      <td>An espresso blend comprised of coffees from Pa...</td>\n",
       "      <td>A radiant espresso blend that shines equally i...</td>\n",
       "    </tr>\n",
       "    <tr>\n",
       "      <th>1</th>\n",
       "      <td>Flora Blend Espresso</td>\n",
       "      <td>A.R.C.</td>\n",
       "      <td>Medium-Light</td>\n",
       "      <td>Hong Kong</td>\n",
       "      <td>Africa</td>\n",
       "      <td>Asia Pacific</td>\n",
       "      <td>9.05</td>\n",
       "      <td>94</td>\n",
       "      <td>November 2017</td>\n",
       "      <td>Evaluated as espresso. Sweetly tart, floral-to...</td>\n",
       "      <td>An espresso blend comprised of coffees from Af...</td>\n",
       "      <td>A floral-driven straight shot, amplified with ...</td>\n",
       "    </tr>\n",
       "    <tr>\n",
       "      <th>2</th>\n",
       "      <td>Ethiopia Shakiso Mormora</td>\n",
       "      <td>Revel Coffee</td>\n",
       "      <td>Medium-Light</td>\n",
       "      <td>United States</td>\n",
       "      <td>Guji Zone</td>\n",
       "      <td>Southern Ethiopia</td>\n",
       "      <td>4.70</td>\n",
       "      <td>92</td>\n",
       "      <td>November 2017</td>\n",
       "      <td>Crisply sweet, cocoa-toned. Lemon blossom, roa...</td>\n",
       "      <td>This coffee tied for the third-highest rating ...</td>\n",
       "      <td>A gently spice-toned, floral- driven wet-proce...</td>\n",
       "    </tr>\n",
       "    <tr>\n",
       "      <th>3</th>\n",
       "      <td>Ethiopia Suke Quto</td>\n",
       "      <td>Roast House</td>\n",
       "      <td>Medium-Light</td>\n",
       "      <td>United States</td>\n",
       "      <td>Guji Zone</td>\n",
       "      <td>Oromia Region</td>\n",
       "      <td>4.19</td>\n",
       "      <td>92</td>\n",
       "      <td>November 2017</td>\n",
       "      <td>Delicate, sweetly spice-toned. Pink peppercorn...</td>\n",
       "      <td>This coffee tied for the third-highest rating ...</td>\n",
       "      <td>Lavender-like flowers and hints of zesty pink ...</td>\n",
       "    </tr>\n",
       "    <tr>\n",
       "      <th>4</th>\n",
       "      <td>Ethiopia Gedeb Halo Beriti</td>\n",
       "      <td>Big Creek Coffee Roasters</td>\n",
       "      <td>Medium</td>\n",
       "      <td>United States</td>\n",
       "      <td>Gedeb District</td>\n",
       "      <td>Gedeo Zone</td>\n",
       "      <td>4.85</td>\n",
       "      <td>94</td>\n",
       "      <td>November 2017</td>\n",
       "      <td>Deeply sweet, subtly pungent. Honey, pear, tan...</td>\n",
       "      <td>Southern Ethiopia coffees like this one are pr...</td>\n",
       "      <td>A deeply and generously lush cup saved from se...</td>\n",
       "    </tr>\n",
       "    <tr>\n",
       "      <th>...</th>\n",
       "      <td>...</td>\n",
       "      <td>...</td>\n",
       "      <td>...</td>\n",
       "      <td>...</td>\n",
       "      <td>...</td>\n",
       "      <td>...</td>\n",
       "      <td>...</td>\n",
       "      <td>...</td>\n",
       "      <td>...</td>\n",
       "      <td>...</td>\n",
       "      <td>...</td>\n",
       "      <td>...</td>\n",
       "    </tr>\n",
       "    <tr>\n",
       "      <th>2090</th>\n",
       "      <td>Finca Patzibir</td>\n",
       "      <td>El Gran Cafe</td>\n",
       "      <td>Medium-Light</td>\n",
       "      <td>Guatemala</td>\n",
       "      <td>Lake Atitlán Growing Region</td>\n",
       "      <td>Guatemala</td>\n",
       "      <td>4.70</td>\n",
       "      <td>92</td>\n",
       "      <td>November 2022</td>\n",
       "      <td>Crisply sweet, nut-toned. Almond brittle, pie ...</td>\n",
       "      <td>Produced by Andres Fahsen of Finca Patzibar en...</td>\n",
       "      <td>A quietly confident, sweetly nut-toned Guatema...</td>\n",
       "    </tr>\n",
       "    <tr>\n",
       "      <th>2091</th>\n",
       "      <td>Proyecto Aurora</td>\n",
       "      <td>El Gran Cafe</td>\n",
       "      <td>Medium-Light</td>\n",
       "      <td>Guatemala</td>\n",
       "      <td>Antigua Growing Region</td>\n",
       "      <td>Guatemala</td>\n",
       "      <td>2.94</td>\n",
       "      <td>93</td>\n",
       "      <td>November 2022</td>\n",
       "      <td>Chocolaty, floral-framed. Cocoa nib, honeysuck...</td>\n",
       "      <td>Produced at Beneficio La Esperanza from trees ...</td>\n",
       "      <td>A deeply floral, richly chocolaty Guatemala cu...</td>\n",
       "    </tr>\n",
       "    <tr>\n",
       "      <th>2092</th>\n",
       "      <td>Finca El Potrero</td>\n",
       "      <td>El Gran Cafe</td>\n",
       "      <td>Medium-Light</td>\n",
       "      <td>Guatemala</td>\n",
       "      <td>Antigua Growing Region</td>\n",
       "      <td>Guatemala</td>\n",
       "      <td>2.94</td>\n",
       "      <td>93</td>\n",
       "      <td>November 2022</td>\n",
       "      <td>High-toned, enticingly sweet. Black cherry, na...</td>\n",
       "      <td>Produced by Josué Morales of Finca El Potrero...</td>\n",
       "      <td>A bright, balanced, juicy Guatemala cup driven...</td>\n",
       "    </tr>\n",
       "    <tr>\n",
       "      <th>2093</th>\n",
       "      <td>Chacayá Santiago Atitlán</td>\n",
       "      <td>El Gran Cafe</td>\n",
       "      <td>Medium-Light</td>\n",
       "      <td>Guatemala</td>\n",
       "      <td>Lake Atitlán Growing Region</td>\n",
       "      <td>Guatemala</td>\n",
       "      <td>4.70</td>\n",
       "      <td>93</td>\n",
       "      <td>November 2022</td>\n",
       "      <td>Vibrantly sweet, subtly nuanced. Apricot, dar...</td>\n",
       "      <td>Produced by smallholding farmers of Asociación...</td>\n",
       "      <td>Balanced, bright, invigoratingly crisp, with t...</td>\n",
       "    </tr>\n",
       "    <tr>\n",
       "      <th>2094</th>\n",
       "      <td>Espresso No. 3</td>\n",
       "      <td>El Gran Cafe</td>\n",
       "      <td>Medium-Light</td>\n",
       "      <td>Guatemala</td>\n",
       "      <td>Antigua Growing Region</td>\n",
       "      <td>Guatemala</td>\n",
       "      <td>5.88</td>\n",
       "      <td>94</td>\n",
       "      <td>November 2022</td>\n",
       "      <td>Evaluated as espresso. Multi-layered, complex....</td>\n",
       "      <td>Produced by Josué Morales at Finca Villa La Es...</td>\n",
       "      <td>This single-farm Guatemala espresso displays t...</td>\n",
       "    </tr>\n",
       "  </tbody>\n",
       "</table>\n",
       "<p>2095 rows × 12 columns</p>\n",
       "</div>"
      ],
      "text/plain": [
       "                            name                    roaster         roast  \\\n",
       "0        “Sweety” Espresso Blend                     A.R.C.  Medium-Light   \n",
       "1           Flora Blend Espresso                     A.R.C.  Medium-Light   \n",
       "2       Ethiopia Shakiso Mormora               Revel Coffee  Medium-Light   \n",
       "3             Ethiopia Suke Quto                Roast House  Medium-Light   \n",
       "4     Ethiopia Gedeb Halo Beriti  Big Creek Coffee Roasters        Medium   \n",
       "...                          ...                        ...           ...   \n",
       "2090              Finca Patzibir               El Gran Cafe  Medium-Light   \n",
       "2091             Proyecto Aurora               El Gran Cafe  Medium-Light   \n",
       "2092            Finca El Potrero               El Gran Cafe  Medium-Light   \n",
       "2093    Chacayá Santiago Atitlán               El Gran Cafe  Medium-Light   \n",
       "2094              Espresso No. 3               El Gran Cafe  Medium-Light   \n",
       "\n",
       "        loc_country                     origin_1           origin_2  100g_USD  \\\n",
       "0         Hong Kong                       Panama           Ethiopia     14.32   \n",
       "1         Hong Kong                       Africa       Asia Pacific      9.05   \n",
       "2     United States                    Guji Zone  Southern Ethiopia      4.70   \n",
       "3     United States                    Guji Zone      Oromia Region      4.19   \n",
       "4     United States               Gedeb District         Gedeo Zone      4.85   \n",
       "...             ...                          ...                ...       ...   \n",
       "2090      Guatemala  Lake Atitlán Growing Region          Guatemala      4.70   \n",
       "2091      Guatemala       Antigua Growing Region          Guatemala      2.94   \n",
       "2092      Guatemala       Antigua Growing Region          Guatemala      2.94   \n",
       "2093      Guatemala  Lake Atitlán Growing Region          Guatemala      4.70   \n",
       "2094      Guatemala       Antigua Growing Region          Guatemala      5.88   \n",
       "\n",
       "      rating    review_date  \\\n",
       "0         95  November 2017   \n",
       "1         94  November 2017   \n",
       "2         92  November 2017   \n",
       "3         92  November 2017   \n",
       "4         94  November 2017   \n",
       "...      ...            ...   \n",
       "2090      92  November 2022   \n",
       "2091      93  November 2022   \n",
       "2092      93  November 2022   \n",
       "2093      93  November 2022   \n",
       "2094      94  November 2022   \n",
       "\n",
       "                                                 desc_1  \\\n",
       "0     Evaluated as espresso. Sweet-toned, deeply ric...   \n",
       "1     Evaluated as espresso. Sweetly tart, floral-to...   \n",
       "2     Crisply sweet, cocoa-toned. Lemon blossom, roa...   \n",
       "3     Delicate, sweetly spice-toned. Pink peppercorn...   \n",
       "4     Deeply sweet, subtly pungent. Honey, pear, tan...   \n",
       "...                                                 ...   \n",
       "2090  Crisply sweet, nut-toned. Almond brittle, pie ...   \n",
       "2091  Chocolaty, floral-framed. Cocoa nib, honeysuck...   \n",
       "2092  High-toned, enticingly sweet. Black cherry, na...   \n",
       "2093   Vibrantly sweet, subtly nuanced. Apricot, dar...   \n",
       "2094  Evaluated as espresso. Multi-layered, complex....   \n",
       "\n",
       "                                                 desc_2  \\\n",
       "0     An espresso blend comprised of coffees from Pa...   \n",
       "1     An espresso blend comprised of coffees from Af...   \n",
       "2     This coffee tied for the third-highest rating ...   \n",
       "3     This coffee tied for the third-highest rating ...   \n",
       "4     Southern Ethiopia coffees like this one are pr...   \n",
       "...                                                 ...   \n",
       "2090  Produced by Andres Fahsen of Finca Patzibar en...   \n",
       "2091  Produced at Beneficio La Esperanza from trees ...   \n",
       "2092   Produced by Josué Morales of Finca El Potrero...   \n",
       "2093  Produced by smallholding farmers of Asociación...   \n",
       "2094  Produced by Josué Morales at Finca Villa La Es...   \n",
       "\n",
       "                                                 desc_3  \n",
       "0     A radiant espresso blend that shines equally i...  \n",
       "1     A floral-driven straight shot, amplified with ...  \n",
       "2     A gently spice-toned, floral- driven wet-proce...  \n",
       "3     Lavender-like flowers and hints of zesty pink ...  \n",
       "4     A deeply and generously lush cup saved from se...  \n",
       "...                                                 ...  \n",
       "2090  A quietly confident, sweetly nut-toned Guatema...  \n",
       "2091  A deeply floral, richly chocolaty Guatemala cu...  \n",
       "2092  A bright, balanced, juicy Guatemala cup driven...  \n",
       "2093  Balanced, bright, invigoratingly crisp, with t...  \n",
       "2094  This single-farm Guatemala espresso displays t...  \n",
       "\n",
       "[2095 rows x 12 columns]"
      ]
     },
     "execution_count": 2,
     "metadata": {},
     "output_type": "execute_result"
    }
   ],
   "source": [
    "data = pd.read_csv('../data/raw/coffee_analysis.csv')\n",
    "data"
   ]
  },
  {
   "cell_type": "code",
   "execution_count": 3,
   "metadata": {},
   "outputs": [
    {
     "data": {
      "text/html": [
       "<div>\n",
       "<style scoped>\n",
       "    .dataframe tbody tr th:only-of-type {\n",
       "        vertical-align: middle;\n",
       "    }\n",
       "\n",
       "    .dataframe tbody tr th {\n",
       "        vertical-align: top;\n",
       "    }\n",
       "\n",
       "    .dataframe thead th {\n",
       "        text-align: right;\n",
       "    }\n",
       "</style>\n",
       "<table border=\"1\" class=\"dataframe\">\n",
       "  <thead>\n",
       "    <tr style=\"text-align: right;\">\n",
       "      <th></th>\n",
       "      <th>100g_USD</th>\n",
       "      <th>rating</th>\n",
       "    </tr>\n",
       "  </thead>\n",
       "  <tbody>\n",
       "    <tr>\n",
       "      <th>count</th>\n",
       "      <td>2095.000000</td>\n",
       "      <td>2095.000000</td>\n",
       "    </tr>\n",
       "    <tr>\n",
       "      <th>mean</th>\n",
       "      <td>9.323313</td>\n",
       "      <td>93.114081</td>\n",
       "    </tr>\n",
       "    <tr>\n",
       "      <th>std</th>\n",
       "      <td>11.430659</td>\n",
       "      <td>1.563024</td>\n",
       "    </tr>\n",
       "    <tr>\n",
       "      <th>min</th>\n",
       "      <td>0.120000</td>\n",
       "      <td>84.000000</td>\n",
       "    </tr>\n",
       "    <tr>\n",
       "      <th>25%</th>\n",
       "      <td>4.930000</td>\n",
       "      <td>92.000000</td>\n",
       "    </tr>\n",
       "    <tr>\n",
       "      <th>50%</th>\n",
       "      <td>5.860000</td>\n",
       "      <td>93.000000</td>\n",
       "    </tr>\n",
       "    <tr>\n",
       "      <th>75%</th>\n",
       "      <td>8.785000</td>\n",
       "      <td>94.000000</td>\n",
       "    </tr>\n",
       "    <tr>\n",
       "      <th>max</th>\n",
       "      <td>132.280000</td>\n",
       "      <td>98.000000</td>\n",
       "    </tr>\n",
       "  </tbody>\n",
       "</table>\n",
       "</div>"
      ],
      "text/plain": [
       "          100g_USD       rating\n",
       "count  2095.000000  2095.000000\n",
       "mean      9.323313    93.114081\n",
       "std      11.430659     1.563024\n",
       "min       0.120000    84.000000\n",
       "25%       4.930000    92.000000\n",
       "50%       5.860000    93.000000\n",
       "75%       8.785000    94.000000\n",
       "max     132.280000    98.000000"
      ]
     },
     "execution_count": 3,
     "metadata": {},
     "output_type": "execute_result"
    }
   ],
   "source": [
    "data.describe()"
   ]
  },
  {
   "cell_type": "code",
   "execution_count": 4,
   "metadata": {},
   "outputs": [
    {
     "name": "stdout",
     "output_type": "stream",
     "text": [
      "<class 'pandas.core.frame.DataFrame'>\n",
      "RangeIndex: 2095 entries, 0 to 2094\n",
      "Data columns (total 12 columns):\n",
      " #   Column       Non-Null Count  Dtype  \n",
      "---  ------       --------------  -----  \n",
      " 0   name         2095 non-null   object \n",
      " 1   roaster      2095 non-null   object \n",
      " 2   roast        2080 non-null   object \n",
      " 3   loc_country  2095 non-null   object \n",
      " 4   origin_1     2095 non-null   object \n",
      " 5   origin_2     2095 non-null   object \n",
      " 6   100g_USD     2095 non-null   float64\n",
      " 7   rating       2095 non-null   int64  \n",
      " 8   review_date  2095 non-null   object \n",
      " 9   desc_1       2095 non-null   object \n",
      " 10  desc_2       2095 non-null   object \n",
      " 11  desc_3       2093 non-null   object \n",
      "dtypes: float64(1), int64(1), object(10)\n",
      "memory usage: 196.5+ KB\n"
     ]
    }
   ],
   "source": [
    "data.info()"
   ]
  },
  {
   "cell_type": "markdown",
   "metadata": {},
   "source": [
    "Das duas células acima, podemos ver que o dataset está completo, não possui valores faltantes. Conseguimos ver o preço médio dos grãos de café (USD 9,32) e que 75% dos dados possuem valor até USD 8,78 mas o café de maior valor custa USD 132,28, o que pode ser um outlier.  \n",
    "Em relação às notas temos uma amplitude de 14 pontos e a distância inter-quartil (IQR) é de apenas 2 pontos, o que pode mostrar que os cafés tem notas altas por ter alta qualidade."
   ]
  },
  {
   "cell_type": "markdown",
   "metadata": {},
   "source": [
    "## 2. Perguntas de partida e hipóteses"
   ]
  },
  {
   "cell_type": "markdown",
   "metadata": {},
   "source": [
    "De acordo com nossos objetivos, vamos tentar identificar:\n",
    "* Preferência de torra,\n",
    "* Se a nota influencia no preço,\n",
    "* Qual país possui mais grãos bem avaliados"
   ]
  },
  {
   "cell_type": "code",
   "execution_count": 6,
   "metadata": {},
   "outputs": [],
   "source": [
    "import matplotlib.pyplot as plt\n",
    "import seaborn as sns"
   ]
  },
  {
   "cell_type": "code",
   "execution_count": 11,
   "metadata": {
    "scrolled": true
   },
   "outputs": [
    {
     "data": {
      "image/png": "[encoded data removed]",
      "text/plain": [
       "<Figure size 640x480 with 1 Axes>"
      ]
     },
     "metadata": {},
     "output_type": "display_data"
    }
   ],
   "source": [
    "sns.boxplot(data=data, y='rating')\n",
    "plt.title('Boxplot - Notas dos cafés')\n",
    "plt.show()"
   ]
  },
  {
   "cell_type": "code",
   "execution_count": 23,
   "metadata": {
    "scrolled": true
   },
   "outputs": [
    {
     "data": {
      "image/png": "[encoded data removed]",
      "text/plain": [
       "<Figure size 640x480 with 1 Axes>"
      ]
     },
     "metadata": {},
     "output_type": "display_data"
    }
   ],
   "source": [
    "sns.boxplot(data=data, y='100g_USD')\n",
    "plt.title('Boxplot - Preços dos cafés')\n",
    "plt.show()"
   ]
  },
  {
   "cell_type": "code",
   "execution_count": 19,
   "metadata": {
    "scrolled": true
   },
   "outputs": [
    {
     "data": {
      "text/plain": [
       "<Axes: xlabel='roast', ylabel='count'>"
      ]
     },
     "execution_count": 19,
     "metadata": {},
     "output_type": "execute_result"
    },
    {
     "data": {
      "image/png": "[encoded data removed]",
      "text/plain": [
       "<Figure size 640x480 with 1 Axes>"
      ]
     },
     "metadata": {},
     "output_type": "display_data"
    }
   ],
   "source": [
    "sns.countplot(data=data, x='roast')"
   ]
  },
  {
   "cell_type": "markdown",
   "metadata": {},
   "source": [
    "## 3. Insights"
   ]
  },
  {
   "cell_type": "code",
   "execution_count": null,
   "metadata": {},
   "outputs": [],
   "source": []
  }
 ],
 "metadata": {
  "kernelspec": {
   "display_name": "Python 3 (ipykernel)",
   "language": "python",
   "name": "python3"
  },
  "language_info": {
   "codemirror_mode": {
    "name": "ipython",
    "version": 3
   },
   "file_extension": ".py",
   "mimetype": "text/x-python",
   "name": "python",
   "nbconvert_exporter": "python",
   "pygments_lexer": "ipython3",
   "version": "3.10.11"
  },
  "vscode": {
   "interpreter": {
    "hash": "eb3c3305d8b111f0102f4f519c5f17abd113fe74db6752c355e994a9008815ef"
   }
  }
 },
 "nbformat": 4,
 "nbformat_minor": 2
}
